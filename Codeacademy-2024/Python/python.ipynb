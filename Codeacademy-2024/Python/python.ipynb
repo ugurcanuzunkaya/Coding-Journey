{
 "cells": [
  {
   "cell_type": "markdown",
   "metadata": {},
   "source": [
    "##### Tweet 1:\n",
    "🐍 Python Basics: Dive into coding with Python! Comments (#) are your best friend for notes. Example: # This is a comment. Plus, tackle math with ease: 10 + 30, 40 - 10, 50 * 5...you get the drill! Always keep learning & coding! #Python #Coding"
   ]
  },
  {
   "cell_type": "code",
   "execution_count": null,
   "metadata": {},
   "outputs": [],
   "source": [
    "# This is a comment in Python.\n",
    "print(10 + 30)  # Adds numbers: 40\n",
    "print(40 - 10)  # Subtracts numbers: 30\n",
    "print(50 * 5)   # Multiplies numbers: 250"
   ]
  },
  {
   "cell_type": "markdown",
   "metadata": {},
   "source": [
    "##### Tweet 2:\n",
    "💡 Quick Tip: Save time with the plus-equals operator! Instead of counter = counter + 10, just use counter += 10. Works with numbers and strings for easy, on-the-fly updates. Keep your code clean and efficient! #CodeTips #Python"
   ]
  },
  {
   "cell_type": "code",
   "execution_count": null,
   "metadata": {},
   "outputs": [],
   "source": [
    "# Using the plus-equals operator\n",
    "counter = 10\n",
    "counter += 10  # Now counter is 20\n",
    "\n",
    "text = \"coding\"\n",
    "text += \" rocks!\"  # Now text is \"coding rocks!\"\n"
   ]
  },
  {
   "cell_type": "markdown",
   "metadata": {},
   "source": [
    "##### Tweet 3:\n",
    "\n",
    "🔢 Variables 101: Store anything in a variable! Create with user_name = \"codey\", then change it up with points = 120. Python variables are flexible and powerful. Keep coding and experimenting! #PythonVariables #LearnToCode"
   ]
  },
  {
   "cell_type": "code",
   "execution_count": null,
   "metadata": {},
   "outputs": [],
   "source": [
    "# Creating and changing variables\n",
    "user_name = \"codey\"  # A string variable\n",
    "print(user_name)\n",
    "\n",
    "points = 120  # An integer variable\n",
    "points += 80  # Increasing points by 80\n",
    "print(points)\n"
   ]
  },
  {
   "cell_type": "markdown",
   "metadata": {},
   "source": [
    "##### Tweet 4 - SyntaxError and elif Statement\n",
    "\"Starting your Python journey? Remember, SyntaxErrors are your friends guiding you to correct code! And don't forget the power of elif statements for multi-way branching. #Python #CodeNewbie\""
   ]
  },
  {
   "cell_type": "code",
   "execution_count": null,
   "metadata": {},
   "outputs": [],
   "source": [
    "# Define a variable\n",
    "weather = \"snowing\"\n",
    "\n",
    "# Using elif statements for multi-way branching\n",
    "if weather == \"rainy\":\n",
    "    print(\"Don't forget your umbrella!\")\n",
    "elif weather == \"sunny\":\n",
    "    print(\"Wear your sunglasses!\")\n",
    "elif weather == \"snowing\":  # Correct usage of elif\n",
    "    print(\"Time to build a snowman!\")\n",
    "else:\n",
    "    print(\"Enjoy whatever the weather is!\")\n"
   ]
  },
  {
   "cell_type": "markdown",
   "metadata": {},
   "source": [
    "##### Tweet 5 - or and and Operators\n",
    "\"Booleans got you puzzled? In Python, 'or' & 'and' operators are your logical essentials. Combine conditions like a pro! #PythonTips #LearnCoding\""
   ]
  },
  {
   "cell_type": "code",
   "execution_count": null,
   "metadata": {},
   "outputs": [],
   "source": [
    "# Define variables\n",
    "is_weekend = True\n",
    "is_holiday = False\n",
    "\n",
    "# Using 'or' & 'and' operators\n",
    "if is_weekend or is_holiday:\n",
    "    print(\"Enjoy your day off!\")\n",
    "elif is_weekend and not is_holiday:\n",
    "    print(\"It's the weekend, but keep an eye on your calendar!\")\n",
    "else:\n",
    "    print(\"Back to work or school!\")\n"
   ]
  },
  {
   "cell_type": "markdown",
   "metadata": {},
   "source": [
    "##### Tweet 6 - Comparison Operators\n",
    "\"Less than or greater than? Python's comparison operators like <, >, <=, >= let you effortlessly compare values. Dive into conditionals! #Coding #PythonProgramming\""
   ]
  },
  {
   "cell_type": "code",
   "execution_count": null,
   "metadata": {},
   "outputs": [],
   "source": [
    "# Define variables for comparison\n",
    "a = 20\n",
    "b = 15\n",
    "\n",
    "# Using comparison operators\n",
    "if a < b:\n",
    "    print(\"a is less than b\")\n",
    "elif a > b:\n",
    "    print(\"a is greater than b\")\n",
    "else:\n",
    "    print(\"a and b are equal\")\n"
   ]
  },
  {
   "cell_type": "markdown",
   "metadata": {},
   "source": [
    "##### Tweet 7: Introduction to Lists in Python\n",
    "\"Unlock the power of Python lists! Group your data into versatile and easy-to-manage collections. Whether you're counting primes or planning a party, lists are your go-to structure. #Python #Coding 🐍📝\""
   ]
  },
  {
   "cell_type": "code",
   "execution_count": null,
   "metadata": {},
   "outputs": [],
   "source": [
    "primes = [2, 3, 5, 7, 11]\n",
    "print(\"Prime numbers are:\", primes)\n"
   ]
  },
  {
   "cell_type": "markdown",
   "metadata": {},
   "source": [
    "##### Tweet 8: Adding Lists Together\n",
    "\"Combine lists in Python with ease! Just add them using the '+' symbol and watch as your data sets unite. Perfect for merging menus or guest lists! #PythonTips #EfficientCoding\""
   ]
  },
  {
   "cell_type": "code",
   "execution_count": null,
   "metadata": {},
   "outputs": [],
   "source": [
    "fruits = ['apple', 'banana', 'cherry']\n",
    "veggies = ['spinach', 'kale', 'tomato']\n",
    "grocery_list = fruits + veggies\n",
    "print(\"My grocery list:\", grocery_list)\n"
   ]
  },
  {
   "cell_type": "markdown",
   "metadata": {},
   "source": [
    "##### Tweet 9: Using .append() to Add Items\n",
    "\"Keep your lists growing with Python's .append() method! Add items effortlessly to the end of your list, whether it's new tasks, ingredients, or contacts! #PythonProgramming #ListBuilding\""
   ]
  },
  {
   "cell_type": "code",
   "execution_count": null,
   "metadata": {},
   "outputs": [],
   "source": [
    "tasks = ['wash car', 'reply emails', 'cook dinner']\n",
    "tasks.append('read book')\n",
    "print(\"Today's tasks:\", tasks)\n"
   ]
  },
  {
   "cell_type": "markdown",
   "metadata": {},
   "source": [
    "##### Tweet 10: Accessing Elements in 2D Lists\n",
    "\"Dive into 2D lists in Python for structured data storage! Access and modify nested data with ease, perfect for game boards, matrices, or complex datasets. #DataStructures #Python\""
   ]
  },
  {
   "cell_type": "code",
   "execution_count": null,
   "metadata": {},
   "outputs": [],
   "source": [
    "matrix = [[1, 2, 3], [4, 5, 6], [7, 8, 9]]\n",
    "# Accessing the first row, second element.\n",
    "print(\"Element in first row, second column:\", matrix[0][1])\n"
   ]
  },
  {
   "cell_type": "markdown",
   "metadata": {},
   "source": [
    "##### Tweet 11: .remove() and .count() Methods\n",
    "\"Clean and count with Python lists! Use .remove() to delete unwanted items and .count() to tally up elements. Keep your lists effective and efficient! #PythonTools #CodingTricks\""
   ]
  },
  {
   "cell_type": "code",
   "execution_count": null,
   "metadata": {},
   "outputs": [],
   "source": [
    "pets = ['dog', 'cat', 'fish', 'cat']\n",
    "pets.remove('fish')  # Goodbye fish\n",
    "print(\"Pets after removal:\", pets)\n",
    "print(\"Count of cats:\", pets.count('cat'))\n"
   ]
  },
  {
   "cell_type": "markdown",
   "metadata": {},
   "source": [
    "##### Tweet 12: List Slicing and Sorting\n",
    "\"Slice and sort like a pro with Python lists! Select specific sections or rearrange items to bring order to your data. Tailor your lists to fit your needs! #PythonSlicing #CleanCode\""
   ]
  },
  {
   "cell_type": "code",
   "execution_count": null,
   "metadata": {},
   "outputs": [],
   "source": [
    "numbers = [4, 1, 6, 3, 2]\n",
    "# Slicing the list\n",
    "sub_numbers = numbers[1:4]\n",
    "print(\"Subsection of numbers:\", sub_numbers)\n",
    "# Sorting the list\n",
    "numbers.sort()\n",
    "print(\"Sorted numbers:\", numbers)\n"
   ]
  },
  {
   "cell_type": "markdown",
   "metadata": {},
   "source": [
    "##### Tweet 13:\n",
    "Dive into Python's zip() function! 🚀 Combine names & heights into neat pairs with this simple code snippet. Master your data structures and simplify your code. #Python #CodingTips #DataStructures"
   ]
  },
  {
   "cell_type": "code",
   "execution_count": null,
   "metadata": {},
   "outputs": [],
   "source": [
    "# Define the lists\n",
    "names = [\"Jenny\", \"Alexus\", \"Sam\", \"Grace\"]\n",
    "heights = [61, 70, 67, 64]\n",
    "\n",
    "# Use zip() to combine the lists\n",
    "names_and_heights = zip(names, heights)\n",
    "\n",
    "# Convert the zip object into a list\n",
    "names_and_heights_list = list(names_and_heights)\n",
    "\n",
    "# Print the combined list\n",
    "print(names_and_heights_list)\n"
   ]
  }
 ],
 "metadata": {
  "language_info": {
   "name": "python"
  }
 },
 "nbformat": 4,
 "nbformat_minor": 2
}
