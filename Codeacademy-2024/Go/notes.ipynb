{
 "cells": [
  {
   "cell_type": "markdown",
   "metadata": {},
   "source": [
    "# Learn Go: Introduction\n",
    "\n",
    "## From the Get Go\n",
    "\n",
    "Go, also known as Golang, is a programming language developed by Google aimed at simplifying the process of software development, maintenance, and building. It has gained significant popularity in the development community, especially for creating APIs and DevOps tools.\n",
    "\n",
    "### Key Features of Go:\n",
    "\n",
    "- **Syntax**: Go's syntax is reminiscent of 'C', making it familiar to many developers.\n",
    "- **Performance**: It produces code that is fast and efficient in terms of memory usage.\n",
    "- **Cross-Platform**: Go programs can run on various platforms without significant changes.\n",
    "- **Concurrency**: Offers straightforward syntax for writing multi-threaded programs, simplifying concurrent programming.\n",
    "- **Object-Oriented Features**: While not fully object-oriented, Go provides some features that support object-oriented programming.\n",
    "- **Garbage Collection**: Automates memory management, reducing the risk of memory leaks and other memory-related errors.\n",
    "\n",
    "### Getting Started\n",
    "\n",
    "Before leveraging Go's full potential, it's essential to learn how to read and run Go programs. Completing this introductory lesson is the first step. For a practical application, refer to guides on developing Go locally to understand how to compile and run Go programs on your computer.\n",
    "\n"
   ]
  },
  {
   "cell_type": "markdown",
   "metadata": {},
   "source": [
    "# Learn Go: Introduction to Compiling Files\n",
    "\n",
    "Compiling your Go code into an executable is a straightforward process. This step is crucial for turning your Go programs into runnable applications.\n",
    "\n",
    "## Compiling Go Files\n",
    "\n",
    "To compile a Go file, use the `go build` command followed by your file's name. For example, to compile a file named `greet.go`, the command in your terminal would be:\n",
    "\n",
    "```bash\n",
    "go build greet.go\n",
    "```\n",
    "\n",
    "After running this command, you might not see any immediate output. However, Go has generated an executable file for your program.\n",
    "\n",
    "## Viewing and Running the Executable\n",
    "\n",
    "To see your newly created executable, use the `ls` command. You should see both your original `.go` file and the new executable file. For example:\n",
    "\n",
    "```bash\n",
    "ls\n",
    "```\n",
    "\n",
    "To run your executable, simply type `./` followed by the name of the executable file. For example:\n",
    "\n",
    "```bash\n",
    "./greet\n",
    "```\n",
    "\n",
    "By following these steps, you'll be able to compile and run Go programs effortlessly, turning your code into functional applications.\n"
   ]
  },
  {
   "cell_type": "markdown",
   "metadata": {},
   "source": [
    "# Learn Go: Introduction to Running Files\n",
    "\n",
    "After compiling Go code into an executable, you might wonder about the efficiency of recompiling every time a change is made. Fortunately, Go provides a simpler way to compile and run code in one step.\n",
    "\n",
    "## Running Go Files Directly\n",
    "\n",
    "Instead of compiling to an executable and then running it, you can use the `go run` command to compile and execute Go code in a single step. This is especially useful during development when you're making frequent changes to your code. Here's how:\n",
    "\n",
    "```bash\n",
    "go run greet.go\n",
    "```\n",
    "\n",
    "This command temporarily compiles `greet.go` and runs the compiled code. Unlike `go build`, `go run` does not leave behind an executable file, making it a cleaner option for quick tests and development iterations.\n",
    "\n",
    "### Benefits of Using `go run`:\n",
    "\n",
    "- **Efficiency**: Saves time by compiling and running in one command.\n",
    "- **Convenience**: Avoids clutter by not creating an executable file every time.\n",
    "- **Rapid Testing**: Ideal for quickly testing changes without the overhead of managing executables.\n",
    "\n",
    "Using `go run` streamlines the development process, allowing you to focus on coding and testing without worrying about the build artifacts.\n"
   ]
  }
 ],
 "metadata": {
  "language_info": {
   "name": "python"
  }
 },
 "nbformat": 4,
 "nbformat_minor": 2
}
