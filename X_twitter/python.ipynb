{
 "cells": [
  {
   "cell_type": "markdown",
   "metadata": {},
   "source": [
    "### Tweet 1:\n",
    "🐍 Python Basics: Dive into coding with Python! Comments (#) are your best friend for notes. Example: # This is a comment. Plus, tackle math with ease: 10 + 30, 40 - 10, 50 * 5...you get the drill! Always keep learning & coding! #Python #Coding"
   ]
  },
  {
   "cell_type": "code",
   "execution_count": null,
   "metadata": {},
   "outputs": [],
   "source": [
    "# This is a comment in Python.\n",
    "print(10 + 30)  # Adds numbers: 40\n",
    "print(40 - 10)  # Subtracts numbers: 30\n",
    "print(50 * 5)   # Multiplies numbers: 250"
   ]
  },
  {
   "cell_type": "markdown",
   "metadata": {},
   "source": [
    "### Tweet 2:\n",
    "💡 Quick Tip: Save time with the plus-equals operator! Instead of counter = counter + 10, just use counter += 10. Works with numbers and strings for easy, on-the-fly updates. Keep your code clean and efficient! #CodeTips #Python"
   ]
  },
  {
   "cell_type": "code",
   "execution_count": null,
   "metadata": {},
   "outputs": [],
   "source": [
    "# Using the plus-equals operator\n",
    "counter = 10\n",
    "counter += 10  # Now counter is 20\n",
    "\n",
    "text = \"coding\"\n",
    "text += \" rocks!\"  # Now text is \"coding rocks!\"\n"
   ]
  },
  {
   "cell_type": "markdown",
   "metadata": {},
   "source": [
    "### Tweet 3:\n",
    "\n",
    "🔢 Variables 101: Store anything in a variable! Create with user_name = \"codey\", then change it up with points = 120. Python variables are flexible and powerful. Keep coding and experimenting! #PythonVariables #LearnToCode"
   ]
  },
  {
   "cell_type": "code",
   "execution_count": null,
   "metadata": {},
   "outputs": [],
   "source": [
    "# Creating and changing variables\n",
    "user_name = \"codey\"  # A string variable\n",
    "print(user_name)\n",
    "\n",
    "points = 120  # An integer variable\n",
    "points += 80  # Increasing points by 80\n",
    "print(points)\n"
   ]
  }
 ],
 "metadata": {
  "language_info": {
   "name": "python"
  }
 },
 "nbformat": 4,
 "nbformat_minor": 2
}
